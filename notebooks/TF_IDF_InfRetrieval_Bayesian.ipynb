{
  "nbformat": 4,
  "nbformat_minor": 0,
  "metadata": {
    "colab": {
      "provenance": [],
      "toc_visible": true
    },
    "kernelspec": {
      "name": "python3",
      "display_name": "Python 3"
    },
    "language_info": {
      "name": "python"
    }
  },
  "cells": [
    {
      "cell_type": "markdown",
      "source": [
        "<h1 align=center><b>Bayesian Probabilistic Retrieval Strategy</b></font></h1>\n",
        "\n",
        "<br>\n",
        "\n",
        "<p align=\"center\">\n",
        "    <img src=\"https://images.pexels.com/photos/1309899/pexels-photo-1309899.jpeg?auto=compress&cs=tinysrgb&w=1260&h=750&dpr=1\" height=450 width=2000 alt=\"European Commission\">\n",
        "</p>\n",
        "\n",
        "<small>Picture Source: <a href=\"https://www.pexels.com/@jimbear/\">Jimmy Chan</a></small>\n",
        "\n",
        "<br>\n",
        "\n",
        "<h2><b>Bayesian Probabilistic Retrieval Strategy</b></h2>\n",
        "\n",
        "- **Information Retrieval (IR):** Information retrieval is a fundamental process for extracting pertinent information from extensive data repositories. It primarily involves searching for documents or text segments that are relevant to a user's query.\n",
        "\n",
        "- **Bayesian Probabilistic Retrieval:** Bayesian probabilistic retrieval is a significant framework within information retrieval that employs probability theory to assess document relevance to a user's query. It is based on the concept that information retrieval can be approached as a probabilistic decision-making process.\n",
        "\n",
        "- **Document and Query Representation:** In Bayesian probabilistic retrieval, documents and queries are represented as probabilistic models. These models capture the likelihood of observing particular terms within documents and queries, and they help in estimating the relevance of documents.\n",
        "\n",
        "- **Incorporating Prior Information:** The Bayesian approach allows for the incorporation of prior knowledge or prior beliefs about the likelihood of documents being relevant. This enables a more nuanced and personalized retrieval process.\n",
        "\n",
        "- **Scoring Documents:** In this strategy, documents are scored based on the probability that they are relevant given the observed terms in the query. Documents with higher probability scores are considered more relevant.\n",
        "\n",
        "- **Combining Probabilities:** Bayesian probabilistic retrieval combines the probabilities associated with each term in the query to calculate an overall document relevance score. This approach takes into account both the presence and absence of terms in documents.\n",
        "\n",
        "- **Ranking Documents:** The final step involves ranking documents based on their relevance scores. This ranking is used to present the most relevant documents to the user.\n",
        "\n",
        "<br>\n",
        "\n",
        "Bayesian probabilistic retrieval offers a principled and flexible approach to information retrieval by explicitly modeling the uncertainty and probabilistic nature of the retrieval process. It is widely employed in various information retrieval applications, including search engines, recommendation systems, and text classification. By understanding Bayesian probabilistic retrieval, you gain insights into how information retrieval can be approached as a probabilistic decision-making process, allowing for more nuanced and accurate retrieval results.\n",
        "\n",
        "<br>\n",
        "\n",
        "\n",
        "**Reference:** **[Information Retrieval](https://www.google.com.tr/books/edition/Information_Retrieval/65oACAAAQBAJ?hl=en&gbpv=0)** By David A. Grossman, Ophir Frieder · 2004\n",
        "\n",
        "<br>\n",
        "\n",
        "**TIP: If you are going to add more documents ($d_n)$ for the query, please spesify query at the end of the dictionary.**\n",
        "\n",
        "Example:\n",
        "\n",
        "```\n",
        "d_1 = \"shipment of gold damaged in a fire\"\n",
        "d_2 = \"delivery of silver arrived in a silver truck\"\n",
        "d_3 = \"shipment of gold arrived in a truck\"\n",
        "query = \"gold silver truck\"\n",
        "```\n",
        "\n",
        "<br>\n",
        "\n",
        "<h2><b>Keywords</b></h2>\n",
        "<ul>\n",
        "  <li>TF-IDF Analysis</li>\n",
        "  <li>Bayesian Probabilistic Retrieval</li>\n",
        "  <li>Text Analysis</li>\n",
        "  <li>Information Retrieval</li>\n",
        "  <li>Probabilistic Models</li>\n",
        "</ul>\n",
        "\n",
        "<br>\n",
        "\n",
        "<h2><b>Table of Contents</b></h2>\n",
        "\n",
        "<div class=\"alert alert-block alert-info\" style=\"margin-top: 20px\">\n",
        "<li><a href=\"\">Importing Libraries</a></li>\n",
        "<li><a href=\"\">Building Unique Words List Using TF-IDF Vectorization</a></li>\n",
        "<li><a href=\"\">Calculating Weights</a></li>\n",
        "<li><a href=\"\">Document Weights</a></li>\n",
        "\n",
        "<br>\n",
        "\n",
        "\n",
        "\n"
      ],
      "metadata": {
        "id": "mWm7tNATO4QQ"
      }
    },
    {
      "cell_type": "markdown",
      "source": [
        "## **Importing Libraries**"
      ],
      "metadata": {
        "id": "Ka3bAX_VOBDx"
      }
    },
    {
      "cell_type": "code",
      "source": [
        "from sklearn.feature_extraction.text import TfidfVectorizer\n",
        "import math\n",
        "import pandas as pd"
      ],
      "metadata": {
        "id": "7peKipa3ODqg"
      },
      "execution_count": 1,
      "outputs": []
    },
    {
      "cell_type": "markdown",
      "source": [
        "## **Building Unique Words List Using TF-IDF Vectorization**"
      ],
      "metadata": {
        "id": "_1NWGiddNl3G"
      }
    },
    {
      "cell_type": "markdown",
      "source": [
        "The **TfidfVectorizer** is a component of the scikit-learn library used for text analysis and natural language processing. *TF-IDF* stands for *Term Frequency-Inverse Document Frequency* which is a numerical statistic that reflects the importance of a word within a document relative to a collection of documents (corpus)."
      ],
      "metadata": {
        "id": "bSx83z2uOexN"
      }
    },
    {
      "cell_type": "markdown",
      "source": [
        "### Creating Funtions for DRY"
      ],
      "metadata": {
        "id": "fFDpR01DojZS"
      }
    },
    {
      "cell_type": "code",
      "execution_count": 2,
      "metadata": {
        "id": "vD0BwD-G9_5u"
      },
      "outputs": [],
      "source": [
        "def get_unique_words(sentence):\n",
        "    sentence = sentence.lower()\n",
        "    vectorizer = TfidfVectorizer()\n",
        "    tfidf_matrix = vectorizer.fit_transform([sentence])\n",
        "    unique_words = vectorizer.get_feature_names_out()\n",
        "    return unique_words"
      ]
    },
    {
      "cell_type": "code",
      "source": [
        "def combine_calculations(query_unique, doc_list, N_doc, R_doc, doc_indices_to_search=None):\n",
        "    result_dict = {}\n",
        "\n",
        "    for idx, document in enumerate(doc_list):\n",
        "        for value in query_unique:\n",
        "            if value not in result_dict:\n",
        "                result_dict[value] = [0] * len(doc_list)\n",
        "            if value in document:\n",
        "                result_dict[value][idx] += 1\n",
        "\n",
        "    df = pd.DataFrame(result_dict, columns=query_unique)\n",
        "    summary = df.sum(axis=0).to_frame().T\n",
        "    summary.index = ['n-document']\n",
        "\n",
        "    df.loc['N'] = N_doc\n",
        "    df.loc['R'] = R_doc\n",
        "    df = pd.concat([df, summary])\n",
        "\n",
        "    if doc_indices_to_search is not None:\n",
        "        r_relation = [sum(df[col][doc_indices_to_search]) for col in df.columns]\n",
        "        df.loc['r-relation'] = r_relation\n",
        "\n",
        "    df = df.loc[['n-document', 'N', 'r-relation', 'R']]\n",
        "\n",
        "    return df"
      ],
      "metadata": {
        "id": "nEQtJWSObO-M"
      },
      "execution_count": 3,
      "outputs": []
    },
    {
      "cell_type": "code",
      "source": [
        "def calculate_w(r_rel, R, n_doc, N, case):\n",
        "    if case == 1:\n",
        "        numerator = ((r_rel + 0.5) / (R + 1))\n",
        "        denominator = ((n_doc + 1) / (N + 2))\n",
        "    elif case == 2:\n",
        "        numerator = ((r_rel + 0.5) / (R + 1))\n",
        "        denominator = ((n_doc - r_rel + 0.5) / (N - R + 1))\n",
        "    elif case == 3:\n",
        "        numerator = ((r_rel + 0.5) / (R - r_rel + 0.5))\n",
        "        denominator = ((n_doc + 1) / (N - n_doc + 1))\n",
        "    elif case == 4:\n",
        "        numerator = ((r_rel + 0.5) / (R - r_rel + 0.5))\n",
        "        denominator = ((n_doc - r_rel + 0.5) / ((N - n_doc) - (R - r_rel) + 0.5))\n",
        "    else:\n",
        "        raise ValueError(\"Invalid case\")\n",
        "\n",
        "    return round(math.log10(numerator / denominator), 3)"
      ],
      "metadata": {
        "id": "5i3IbcAExuMp"
      },
      "execution_count": 4,
      "outputs": []
    },
    {
      "cell_type": "markdown",
      "source": [
        "## **Get Unique Words with TF-IDF**"
      ],
      "metadata": {
        "id": "U9cg6eBN4joA"
      }
    },
    {
      "cell_type": "code",
      "source": [
        "d_1 = \"shipment of gold damaged in a fire\"\n",
        "d_2 = \"delivery of silver arrived in a silver truck\"\n",
        "d_3 = \"shipment of gold arrived in a truck\"\n",
        "query = \"gold silver truck\"\n",
        "# Add more documents here as needed!\n",
        "\n",
        "d_1_unique = get_unique_words(d_1)\n",
        "d_2_unique = get_unique_words(d_2)\n",
        "d_3_unique = get_unique_words(d_3)\n",
        "query_unique = get_unique_words(query)\n",
        "# Add more documents here as needed!"
      ],
      "metadata": {
        "id": "ADIkvp83-tPY"
      },
      "execution_count": 5,
      "outputs": []
    },
    {
      "cell_type": "code",
      "source": [
        "query_unique"
      ],
      "metadata": {
        "colab": {
          "base_uri": "https://localhost:8080/"
        },
        "id": "d8peO-jvFIFu",
        "outputId": "3d53ea41-5e86-4338-b0a2-e3c5213d42bf"
      },
      "execution_count": 6,
      "outputs": [
        {
          "output_type": "execute_result",
          "data": {
            "text/plain": [
              "array(['gold', 'silver', 'truck'], dtype=object)"
            ]
          },
          "metadata": {},
          "execution_count": 6
        }
      ]
    },
    {
      "cell_type": "code",
      "source": [
        "d_1_unique"
      ],
      "metadata": {
        "colab": {
          "base_uri": "https://localhost:8080/"
        },
        "id": "TRLx7uVrBaVL",
        "outputId": "4526bb7d-a062-4ce1-a150-3443b0c62d28"
      },
      "execution_count": 7,
      "outputs": [
        {
          "output_type": "execute_result",
          "data": {
            "text/plain": [
              "array(['damaged', 'fire', 'gold', 'in', 'of', 'shipment'], dtype=object)"
            ]
          },
          "metadata": {},
          "execution_count": 7
        }
      ]
    },
    {
      "cell_type": "code",
      "source": [
        "d_2_unique"
      ],
      "metadata": {
        "colab": {
          "base_uri": "https://localhost:8080/"
        },
        "id": "Q0HQbjSoBaTX",
        "outputId": "98fe638c-0a8d-40c4-8331-176355af4eb6"
      },
      "execution_count": 8,
      "outputs": [
        {
          "output_type": "execute_result",
          "data": {
            "text/plain": [
              "array(['arrived', 'delivery', 'in', 'of', 'silver', 'truck'], dtype=object)"
            ]
          },
          "metadata": {},
          "execution_count": 8
        }
      ]
    },
    {
      "cell_type": "code",
      "source": [
        "d_3_unique"
      ],
      "metadata": {
        "colab": {
          "base_uri": "https://localhost:8080/"
        },
        "id": "awybS5wZBaRW",
        "outputId": "b99c8417-b7bf-4c9e-a81d-03bd745dd6e1"
      },
      "execution_count": 9,
      "outputs": [
        {
          "output_type": "execute_result",
          "data": {
            "text/plain": [
              "array(['arrived', 'gold', 'in', 'of', 'shipment', 'truck'], dtype=object)"
            ]
          },
          "metadata": {},
          "execution_count": 9
        }
      ]
    },
    {
      "cell_type": "markdown",
      "source": [
        "### **Assumptions**"
      ],
      "metadata": {
        "id": "Ded3ORkp4W0o"
      }
    },
    {
      "cell_type": "code",
      "source": [
        "doc_list = [\n",
        "    d_1_unique,\n",
        "    d_2_unique,\n",
        "    d_3_unique,\n",
        "]\n",
        "\n",
        "doc_indices_to_search = [1, 2] # Specify the indices of the documents you want to search.\n",
        "                               # It is starting from 0!\n",
        "\n",
        "N_doc = 3 # @param {type:\"number\"}\n",
        "R_doc = len(doc_indices_to_search)\n",
        "\n",
        "result_df = combine_calculations(query_unique, doc_list, N_doc, R_doc, doc_indices_to_search)\n",
        "result_df"
      ],
      "metadata": {
        "colab": {
          "base_uri": "https://localhost:8080/",
          "height": 175
        },
        "id": "FOe0qS9BUzi9",
        "outputId": "94863fe9-3c49-455b-ea33-42f3648129a3"
      },
      "execution_count": 10,
      "outputs": [
        {
          "output_type": "execute_result",
          "data": {
            "text/plain": [
              "            gold  silver  truck\n",
              "n-document     2       1      2\n",
              "N              3       3      3\n",
              "r-relation     1       1      2\n",
              "R              2       2      2"
            ],
            "text/html": [
              "\n",
              "  <div id=\"df-d9275348-da8f-417e-8f32-ec8f28241058\" class=\"colab-df-container\">\n",
              "    <div>\n",
              "<style scoped>\n",
              "    .dataframe tbody tr th:only-of-type {\n",
              "        vertical-align: middle;\n",
              "    }\n",
              "\n",
              "    .dataframe tbody tr th {\n",
              "        vertical-align: top;\n",
              "    }\n",
              "\n",
              "    .dataframe thead th {\n",
              "        text-align: right;\n",
              "    }\n",
              "</style>\n",
              "<table border=\"1\" class=\"dataframe\">\n",
              "  <thead>\n",
              "    <tr style=\"text-align: right;\">\n",
              "      <th></th>\n",
              "      <th>gold</th>\n",
              "      <th>silver</th>\n",
              "      <th>truck</th>\n",
              "    </tr>\n",
              "  </thead>\n",
              "  <tbody>\n",
              "    <tr>\n",
              "      <th>n-document</th>\n",
              "      <td>2</td>\n",
              "      <td>1</td>\n",
              "      <td>2</td>\n",
              "    </tr>\n",
              "    <tr>\n",
              "      <th>N</th>\n",
              "      <td>3</td>\n",
              "      <td>3</td>\n",
              "      <td>3</td>\n",
              "    </tr>\n",
              "    <tr>\n",
              "      <th>r-relation</th>\n",
              "      <td>1</td>\n",
              "      <td>1</td>\n",
              "      <td>2</td>\n",
              "    </tr>\n",
              "    <tr>\n",
              "      <th>R</th>\n",
              "      <td>2</td>\n",
              "      <td>2</td>\n",
              "      <td>2</td>\n",
              "    </tr>\n",
              "  </tbody>\n",
              "</table>\n",
              "</div>\n",
              "    <div class=\"colab-df-buttons\">\n",
              "\n",
              "  <div class=\"colab-df-container\">\n",
              "    <button class=\"colab-df-convert\" onclick=\"convertToInteractive('df-d9275348-da8f-417e-8f32-ec8f28241058')\"\n",
              "            title=\"Convert this dataframe to an interactive table.\"\n",
              "            style=\"display:none;\">\n",
              "\n",
              "  <svg xmlns=\"http://www.w3.org/2000/svg\" height=\"24px\" viewBox=\"0 -960 960 960\">\n",
              "    <path d=\"M120-120v-720h720v720H120Zm60-500h600v-160H180v160Zm220 220h160v-160H400v160Zm0 220h160v-160H400v160ZM180-400h160v-160H180v160Zm440 0h160v-160H620v160ZM180-180h160v-160H180v160Zm440 0h160v-160H620v160Z\"/>\n",
              "  </svg>\n",
              "    </button>\n",
              "\n",
              "  <style>\n",
              "    .colab-df-container {\n",
              "      display:flex;\n",
              "      gap: 12px;\n",
              "    }\n",
              "\n",
              "    .colab-df-convert {\n",
              "      background-color: #E8F0FE;\n",
              "      border: none;\n",
              "      border-radius: 50%;\n",
              "      cursor: pointer;\n",
              "      display: none;\n",
              "      fill: #1967D2;\n",
              "      height: 32px;\n",
              "      padding: 0 0 0 0;\n",
              "      width: 32px;\n",
              "    }\n",
              "\n",
              "    .colab-df-convert:hover {\n",
              "      background-color: #E2EBFA;\n",
              "      box-shadow: 0px 1px 2px rgba(60, 64, 67, 0.3), 0px 1px 3px 1px rgba(60, 64, 67, 0.15);\n",
              "      fill: #174EA6;\n",
              "    }\n",
              "\n",
              "    .colab-df-buttons div {\n",
              "      margin-bottom: 4px;\n",
              "    }\n",
              "\n",
              "    [theme=dark] .colab-df-convert {\n",
              "      background-color: #3B4455;\n",
              "      fill: #D2E3FC;\n",
              "    }\n",
              "\n",
              "    [theme=dark] .colab-df-convert:hover {\n",
              "      background-color: #434B5C;\n",
              "      box-shadow: 0px 1px 3px 1px rgba(0, 0, 0, 0.15);\n",
              "      filter: drop-shadow(0px 1px 2px rgba(0, 0, 0, 0.3));\n",
              "      fill: #FFFFFF;\n",
              "    }\n",
              "  </style>\n",
              "\n",
              "    <script>\n",
              "      const buttonEl =\n",
              "        document.querySelector('#df-d9275348-da8f-417e-8f32-ec8f28241058 button.colab-df-convert');\n",
              "      buttonEl.style.display =\n",
              "        google.colab.kernel.accessAllowed ? 'block' : 'none';\n",
              "\n",
              "      async function convertToInteractive(key) {\n",
              "        const element = document.querySelector('#df-d9275348-da8f-417e-8f32-ec8f28241058');\n",
              "        const dataTable =\n",
              "          await google.colab.kernel.invokeFunction('convertToInteractive',\n",
              "                                                    [key], {});\n",
              "        if (!dataTable) return;\n",
              "\n",
              "        const docLinkHtml = 'Like what you see? Visit the ' +\n",
              "          '<a target=\"_blank\" href=https://colab.research.google.com/notebooks/data_table.ipynb>data table notebook</a>'\n",
              "          + ' to learn more about interactive tables.';\n",
              "        element.innerHTML = '';\n",
              "        dataTable['output_type'] = 'display_data';\n",
              "        await google.colab.output.renderOutput(dataTable, element);\n",
              "        const docLink = document.createElement('div');\n",
              "        docLink.innerHTML = docLinkHtml;\n",
              "        element.appendChild(docLink);\n",
              "      }\n",
              "    </script>\n",
              "  </div>\n",
              "\n",
              "\n",
              "<div id=\"df-aeb30fd8-d001-4905-be2f-3feb7cb7ecee\">\n",
              "  <button class=\"colab-df-quickchart\" onclick=\"quickchart('df-aeb30fd8-d001-4905-be2f-3feb7cb7ecee')\"\n",
              "            title=\"Suggest charts.\"\n",
              "            style=\"display:none;\">\n",
              "\n",
              "<svg xmlns=\"http://www.w3.org/2000/svg\" height=\"24px\"viewBox=\"0 0 24 24\"\n",
              "     width=\"24px\">\n",
              "    <g>\n",
              "        <path d=\"M19 3H5c-1.1 0-2 .9-2 2v14c0 1.1.9 2 2 2h14c1.1 0 2-.9 2-2V5c0-1.1-.9-2-2-2zM9 17H7v-7h2v7zm4 0h-2V7h2v10zm4 0h-2v-4h2v4z\"/>\n",
              "    </g>\n",
              "</svg>\n",
              "  </button>\n",
              "\n",
              "<style>\n",
              "  .colab-df-quickchart {\n",
              "      --bg-color: #E8F0FE;\n",
              "      --fill-color: #1967D2;\n",
              "      --hover-bg-color: #E2EBFA;\n",
              "      --hover-fill-color: #174EA6;\n",
              "      --disabled-fill-color: #AAA;\n",
              "      --disabled-bg-color: #DDD;\n",
              "  }\n",
              "\n",
              "  [theme=dark] .colab-df-quickchart {\n",
              "      --bg-color: #3B4455;\n",
              "      --fill-color: #D2E3FC;\n",
              "      --hover-bg-color: #434B5C;\n",
              "      --hover-fill-color: #FFFFFF;\n",
              "      --disabled-bg-color: #3B4455;\n",
              "      --disabled-fill-color: #666;\n",
              "  }\n",
              "\n",
              "  .colab-df-quickchart {\n",
              "    background-color: var(--bg-color);\n",
              "    border: none;\n",
              "    border-radius: 50%;\n",
              "    cursor: pointer;\n",
              "    display: none;\n",
              "    fill: var(--fill-color);\n",
              "    height: 32px;\n",
              "    padding: 0;\n",
              "    width: 32px;\n",
              "  }\n",
              "\n",
              "  .colab-df-quickchart:hover {\n",
              "    background-color: var(--hover-bg-color);\n",
              "    box-shadow: 0 1px 2px rgba(60, 64, 67, 0.3), 0 1px 3px 1px rgba(60, 64, 67, 0.15);\n",
              "    fill: var(--button-hover-fill-color);\n",
              "  }\n",
              "\n",
              "  .colab-df-quickchart-complete:disabled,\n",
              "  .colab-df-quickchart-complete:disabled:hover {\n",
              "    background-color: var(--disabled-bg-color);\n",
              "    fill: var(--disabled-fill-color);\n",
              "    box-shadow: none;\n",
              "  }\n",
              "\n",
              "  .colab-df-spinner {\n",
              "    border: 2px solid var(--fill-color);\n",
              "    border-color: transparent;\n",
              "    border-bottom-color: var(--fill-color);\n",
              "    animation:\n",
              "      spin 1s steps(1) infinite;\n",
              "  }\n",
              "\n",
              "  @keyframes spin {\n",
              "    0% {\n",
              "      border-color: transparent;\n",
              "      border-bottom-color: var(--fill-color);\n",
              "      border-left-color: var(--fill-color);\n",
              "    }\n",
              "    20% {\n",
              "      border-color: transparent;\n",
              "      border-left-color: var(--fill-color);\n",
              "      border-top-color: var(--fill-color);\n",
              "    }\n",
              "    30% {\n",
              "      border-color: transparent;\n",
              "      border-left-color: var(--fill-color);\n",
              "      border-top-color: var(--fill-color);\n",
              "      border-right-color: var(--fill-color);\n",
              "    }\n",
              "    40% {\n",
              "      border-color: transparent;\n",
              "      border-right-color: var(--fill-color);\n",
              "      border-top-color: var(--fill-color);\n",
              "    }\n",
              "    60% {\n",
              "      border-color: transparent;\n",
              "      border-right-color: var(--fill-color);\n",
              "    }\n",
              "    80% {\n",
              "      border-color: transparent;\n",
              "      border-right-color: var(--fill-color);\n",
              "      border-bottom-color: var(--fill-color);\n",
              "    }\n",
              "    90% {\n",
              "      border-color: transparent;\n",
              "      border-bottom-color: var(--fill-color);\n",
              "    }\n",
              "  }\n",
              "</style>\n",
              "\n",
              "  <script>\n",
              "    async function quickchart(key) {\n",
              "      const quickchartButtonEl =\n",
              "        document.querySelector('#' + key + ' button');\n",
              "      quickchartButtonEl.disabled = true;  // To prevent multiple clicks.\n",
              "      quickchartButtonEl.classList.add('colab-df-spinner');\n",
              "      try {\n",
              "        const charts = await google.colab.kernel.invokeFunction(\n",
              "            'suggestCharts', [key], {});\n",
              "      } catch (error) {\n",
              "        console.error('Error during call to suggestCharts:', error);\n",
              "      }\n",
              "      quickchartButtonEl.classList.remove('colab-df-spinner');\n",
              "      quickchartButtonEl.classList.add('colab-df-quickchart-complete');\n",
              "    }\n",
              "    (() => {\n",
              "      let quickchartButtonEl =\n",
              "        document.querySelector('#df-aeb30fd8-d001-4905-be2f-3feb7cb7ecee button');\n",
              "      quickchartButtonEl.style.display =\n",
              "        google.colab.kernel.accessAllowed ? 'block' : 'none';\n",
              "    })();\n",
              "  </script>\n",
              "</div>\n",
              "    </div>\n",
              "  </div>\n"
            ]
          },
          "metadata": {},
          "execution_count": 10
        }
      ]
    },
    {
      "cell_type": "markdown",
      "source": [
        "## **Calculating Weights**\n",
        "\n",
        "In the realm of Bayesian probabilistic retrieval, the process of determining the relevance of documents to a user's query is a multifaceted task, and the calculated weights play a pivotal role in this endeavor. We employ four distinct weight calculation schemes, namely w1, w2, w3, and w4, each tailored to address specific aspects of relevance assessment. These calculations involve intricate considerations, taking into account parameters such as binary relevance, document frequencies, and prior beliefs. For w1 and w2, we scrutinize the term's presence in relevant and non-relevant documents, while w3 and w4 delve into the balance between relevance and non-relevance. The resulting weights serve as a quantitative measure of a document's likelihood to satisfy a user's information needs. By dissecting the complexities of these weight calculations, we gain deeper insights into the nuances of document ranking and retrieval within a Bayesian probabilistic framework."
      ],
      "metadata": {
        "id": "CiDt5m-33bo9"
      }
    },
    {
      "cell_type": "markdown",
      "source": [
        "### **Calculating W1**\n",
        "\n",
        "In the context of Bayesian probabilistic retrieval, $w1$ represents the weight assigned to a term based on the binary relevance ($r_{rel}$) of a document, the total number of relevant documents ($R$), the number of documents containing the term ($n_{doc}$), and the total number of documents in the collection ($N$). The formula calculates the weight by considering the term's relevance in terms of its presence in relevant documents and adjusts it based on the overall document frequency of the term.\n",
        "\n",
        "<br>\n",
        "\n",
        "$$\n",
        "w_1 = \\log_{10}\\left(\\frac{r_{\\text{rel}} + 0.5}{R + 1}\\right) \\cdot \\log_{10}\\left(\\frac{n_{\\text{doc}} + 1}{N + 2}\\right)\n",
        "$$"
      ],
      "metadata": {
        "id": "CkLRME-0y6jV"
      }
    },
    {
      "cell_type": "code",
      "source": [
        "w1 = []\n",
        "\n",
        "for column in result_df.columns:\n",
        "    r_rel = result_df.loc['r-relation', column]\n",
        "    R = result_df.loc['R', column]\n",
        "    n_doc = result_df.loc['n-document', column]\n",
        "    N = result_df.loc['N', column]\n",
        "    w_1 = calculate_w(r_rel, R, n_doc, N, case=1)\n",
        "    w1.append(w_1)\n",
        "    print(f'{column}: {w_1}')"
      ],
      "metadata": {
        "colab": {
          "base_uri": "https://localhost:8080/"
        },
        "id": "ExLb-fb5fW3F",
        "outputId": "a6c09ac3-eeaf-4ed4-835b-145966058f97"
      },
      "execution_count": 11,
      "outputs": [
        {
          "output_type": "stream",
          "name": "stdout",
          "text": [
            "gold: -0.079\n",
            "silver: 0.097\n",
            "truck: 0.143\n"
          ]
        }
      ]
    },
    {
      "cell_type": "markdown",
      "source": [
        "### **Calculating W2**\n",
        "\n",
        "W2 is another weight in Bayesian probabilistic retrieval, and it takes into account binary relevance, document frequency, and the overall collection statistics. The formula accounts for the presence of the term in both relevant and non-relevant documents ($r_{rel}$ and $n_{doc} - r_{rel}$), and it adjusts the weight based on the number of relevant documents ($R$) and the total collection size ($N$).\n",
        "\n",
        "<br>\n",
        "\n",
        "$$\n",
        "w_2 = \\log_{10}\\left(\\frac{r_{\\text{rel}} + 0.5}{R + 1}\\right) \\cdot \\log_{10}\\left(\\frac{n_{\\text{doc}} - r_{\\text{rel}} + 0.5}{N - R + 1}\\right)\n",
        "$$"
      ],
      "metadata": {
        "id": "TlzSGzcHzA0z"
      }
    },
    {
      "cell_type": "code",
      "source": [
        "w2 = []\n",
        "\n",
        "for column in result_df.columns:\n",
        "    r_rel = result_df.loc['r-relation', column]\n",
        "    R = result_df.loc['R', column]\n",
        "    n_doc = result_df.loc['n-document', column]\n",
        "    N = result_df.loc['N', column]\n",
        "    w_2 = calculate_w(r_rel, R, n_doc, N, case=2)\n",
        "    w2.append(w_2)\n",
        "    print(f'{column}: {w_2}')"
      ],
      "metadata": {
        "colab": {
          "base_uri": "https://localhost:8080/"
        },
        "id": "_ltfu0qlkTVh",
        "outputId": "ea438eaf-04d6-46dc-e041-cd8d9ae05f5f"
      },
      "execution_count": 12,
      "outputs": [
        {
          "output_type": "stream",
          "name": "stdout",
          "text": [
            "gold: -0.176\n",
            "silver: 0.301\n",
            "truck: 0.523\n"
          ]
        }
      ]
    },
    {
      "cell_type": "markdown",
      "source": [
        "### **Calculating W3**\n",
        "\n",
        "'w3' introduces a different weighting approach by considering the term's relevance in relation to its non-relevance and adjusting the weight accordingly.\n",
        "This formula is based on the idea that the presence of a term in non-relevant documents ($R - r_{rel}$) may also provide valuable information for ranking documents.\n",
        "\n",
        "<br>\n",
        "\n",
        "$$\n",
        "w_3 = \\log_{10}\\left(\\frac{r_{\\text{rel}} + 0.5}{R - r_{\\text{rel}} + 0.5}\\right) \\cdot \\log_{10}\\left(\\frac{n_{\\text{doc}} + 1}{N - n_{\\text{doc}} + 1}\\right)\n",
        "$$"
      ],
      "metadata": {
        "id": "W37sSGE6zHkO"
      }
    },
    {
      "cell_type": "code",
      "source": [
        "w3 = []\n",
        "\n",
        "for column in result_df.columns:\n",
        "    r_rel = result_df.loc['r-relation', column]\n",
        "    R = result_df.loc['R', column]\n",
        "    n_doc = result_df.loc['n-document', column]\n",
        "    N = result_df.loc['N', column]\n",
        "    w_3 = calculate_w(r_rel, R, n_doc, N, case=3)\n",
        "    w3.append(w_3)\n",
        "    print(f'{column}: {w_3}')"
      ],
      "metadata": {
        "colab": {
          "base_uri": "https://localhost:8080/"
        },
        "id": "CdWJRh8ck1gy",
        "outputId": "b293e79a-8822-4e1a-b98e-23d6d5f9b051"
      },
      "execution_count": 13,
      "outputs": [
        {
          "output_type": "stream",
          "name": "stdout",
          "text": [
            "gold: -0.176\n",
            "silver: 0.176\n",
            "truck: 0.523\n"
          ]
        }
      ]
    },
    {
      "cell_type": "markdown",
      "source": [
        "### **Calculating W4**\n",
        "\n",
        "'w4' further refines the weighting strategy by considering both relevant and non-relevant documents while taking into account the term's presence in the collection. It balances the relevance and non-relevance of the term in documents, ensuring that it captures the subtleties in the document-term relationship.\n",
        "\n",
        "<br>\n",
        "\n",
        "$$\n",
        "w_4 = \\log_{10}\\left(\\frac{r_{\\text{rel}} + 0.5}{R - r_{\\text{rel}} + 0.5}\\right) \\cdot \\log_{10}\\left(\\frac{n_{\\text{doc}} - r_{\\text{rel}} + 0.5}{(N - n_{\\text{doc}}) - (R - r_{\\text{rel}}) + 0.5}\\right)\n",
        "$$"
      ],
      "metadata": {
        "id": "GvzGZELNzLXT"
      }
    },
    {
      "cell_type": "code",
      "source": [
        "w4 = []\n",
        "\n",
        "for column in result_df.columns:\n",
        "    r_rel = result_df.loc['r-relation', column]\n",
        "    R = result_df.loc['R', column]\n",
        "    n_doc = result_df.loc['n-document', column]\n",
        "    N = result_df.loc['N', column]\n",
        "    w_4 = calculate_w(r_rel, R, n_doc, N, case=4)\n",
        "    w4.append(w_4)\n",
        "    print(f'{column}: {w_4}')"
      ],
      "metadata": {
        "colab": {
          "base_uri": "https://localhost:8080/"
        },
        "id": "r9M2tESjlXXO",
        "outputId": "b0b0e40c-b87c-4297-dd84-02a29745480e"
      },
      "execution_count": 14,
      "outputs": [
        {
          "output_type": "stream",
          "name": "stdout",
          "text": [
            "gold: -0.477\n",
            "silver: 0.477\n",
            "truck: 1.176\n"
          ]
        }
      ]
    },
    {
      "cell_type": "code",
      "source": [
        "data = {\n",
        "    'w1': w1,\n",
        "    'w2': w2,\n",
        "    'w3': w3,\n",
        "    'w4': w4,\n",
        "}\n",
        "\n",
        "df = pd.DataFrame(data, index=query_unique)\n",
        "df"
      ],
      "metadata": {
        "colab": {
          "base_uri": "https://localhost:8080/",
          "height": 143
        },
        "id": "9w0Le9XLn4lG",
        "outputId": "857c88ba-e5d3-46a5-ed91-4b6811a3d0d4"
      },
      "execution_count": 15,
      "outputs": [
        {
          "output_type": "execute_result",
          "data": {
            "text/plain": [
              "           w1     w2     w3     w4\n",
              "gold   -0.079 -0.176 -0.176 -0.477\n",
              "silver  0.097  0.301  0.176  0.477\n",
              "truck   0.143  0.523  0.523  1.176"
            ],
            "text/html": [
              "\n",
              "  <div id=\"df-cfcde41b-746f-4ef4-b1af-a012a901c545\" class=\"colab-df-container\">\n",
              "    <div>\n",
              "<style scoped>\n",
              "    .dataframe tbody tr th:only-of-type {\n",
              "        vertical-align: middle;\n",
              "    }\n",
              "\n",
              "    .dataframe tbody tr th {\n",
              "        vertical-align: top;\n",
              "    }\n",
              "\n",
              "    .dataframe thead th {\n",
              "        text-align: right;\n",
              "    }\n",
              "</style>\n",
              "<table border=\"1\" class=\"dataframe\">\n",
              "  <thead>\n",
              "    <tr style=\"text-align: right;\">\n",
              "      <th></th>\n",
              "      <th>w1</th>\n",
              "      <th>w2</th>\n",
              "      <th>w3</th>\n",
              "      <th>w4</th>\n",
              "    </tr>\n",
              "  </thead>\n",
              "  <tbody>\n",
              "    <tr>\n",
              "      <th>gold</th>\n",
              "      <td>-0.079</td>\n",
              "      <td>-0.176</td>\n",
              "      <td>-0.176</td>\n",
              "      <td>-0.477</td>\n",
              "    </tr>\n",
              "    <tr>\n",
              "      <th>silver</th>\n",
              "      <td>0.097</td>\n",
              "      <td>0.301</td>\n",
              "      <td>0.176</td>\n",
              "      <td>0.477</td>\n",
              "    </tr>\n",
              "    <tr>\n",
              "      <th>truck</th>\n",
              "      <td>0.143</td>\n",
              "      <td>0.523</td>\n",
              "      <td>0.523</td>\n",
              "      <td>1.176</td>\n",
              "    </tr>\n",
              "  </tbody>\n",
              "</table>\n",
              "</div>\n",
              "    <div class=\"colab-df-buttons\">\n",
              "\n",
              "  <div class=\"colab-df-container\">\n",
              "    <button class=\"colab-df-convert\" onclick=\"convertToInteractive('df-cfcde41b-746f-4ef4-b1af-a012a901c545')\"\n",
              "            title=\"Convert this dataframe to an interactive table.\"\n",
              "            style=\"display:none;\">\n",
              "\n",
              "  <svg xmlns=\"http://www.w3.org/2000/svg\" height=\"24px\" viewBox=\"0 -960 960 960\">\n",
              "    <path d=\"M120-120v-720h720v720H120Zm60-500h600v-160H180v160Zm220 220h160v-160H400v160Zm0 220h160v-160H400v160ZM180-400h160v-160H180v160Zm440 0h160v-160H620v160ZM180-180h160v-160H180v160Zm440 0h160v-160H620v160Z\"/>\n",
              "  </svg>\n",
              "    </button>\n",
              "\n",
              "  <style>\n",
              "    .colab-df-container {\n",
              "      display:flex;\n",
              "      gap: 12px;\n",
              "    }\n",
              "\n",
              "    .colab-df-convert {\n",
              "      background-color: #E8F0FE;\n",
              "      border: none;\n",
              "      border-radius: 50%;\n",
              "      cursor: pointer;\n",
              "      display: none;\n",
              "      fill: #1967D2;\n",
              "      height: 32px;\n",
              "      padding: 0 0 0 0;\n",
              "      width: 32px;\n",
              "    }\n",
              "\n",
              "    .colab-df-convert:hover {\n",
              "      background-color: #E2EBFA;\n",
              "      box-shadow: 0px 1px 2px rgba(60, 64, 67, 0.3), 0px 1px 3px 1px rgba(60, 64, 67, 0.15);\n",
              "      fill: #174EA6;\n",
              "    }\n",
              "\n",
              "    .colab-df-buttons div {\n",
              "      margin-bottom: 4px;\n",
              "    }\n",
              "\n",
              "    [theme=dark] .colab-df-convert {\n",
              "      background-color: #3B4455;\n",
              "      fill: #D2E3FC;\n",
              "    }\n",
              "\n",
              "    [theme=dark] .colab-df-convert:hover {\n",
              "      background-color: #434B5C;\n",
              "      box-shadow: 0px 1px 3px 1px rgba(0, 0, 0, 0.15);\n",
              "      filter: drop-shadow(0px 1px 2px rgba(0, 0, 0, 0.3));\n",
              "      fill: #FFFFFF;\n",
              "    }\n",
              "  </style>\n",
              "\n",
              "    <script>\n",
              "      const buttonEl =\n",
              "        document.querySelector('#df-cfcde41b-746f-4ef4-b1af-a012a901c545 button.colab-df-convert');\n",
              "      buttonEl.style.display =\n",
              "        google.colab.kernel.accessAllowed ? 'block' : 'none';\n",
              "\n",
              "      async function convertToInteractive(key) {\n",
              "        const element = document.querySelector('#df-cfcde41b-746f-4ef4-b1af-a012a901c545');\n",
              "        const dataTable =\n",
              "          await google.colab.kernel.invokeFunction('convertToInteractive',\n",
              "                                                    [key], {});\n",
              "        if (!dataTable) return;\n",
              "\n",
              "        const docLinkHtml = 'Like what you see? Visit the ' +\n",
              "          '<a target=\"_blank\" href=https://colab.research.google.com/notebooks/data_table.ipynb>data table notebook</a>'\n",
              "          + ' to learn more about interactive tables.';\n",
              "        element.innerHTML = '';\n",
              "        dataTable['output_type'] = 'display_data';\n",
              "        await google.colab.output.renderOutput(dataTable, element);\n",
              "        const docLink = document.createElement('div');\n",
              "        docLink.innerHTML = docLinkHtml;\n",
              "        element.appendChild(docLink);\n",
              "      }\n",
              "    </script>\n",
              "  </div>\n",
              "\n",
              "\n",
              "<div id=\"df-8ffe286b-27af-4be5-97c9-e0aaabbe37bd\">\n",
              "  <button class=\"colab-df-quickchart\" onclick=\"quickchart('df-8ffe286b-27af-4be5-97c9-e0aaabbe37bd')\"\n",
              "            title=\"Suggest charts.\"\n",
              "            style=\"display:none;\">\n",
              "\n",
              "<svg xmlns=\"http://www.w3.org/2000/svg\" height=\"24px\"viewBox=\"0 0 24 24\"\n",
              "     width=\"24px\">\n",
              "    <g>\n",
              "        <path d=\"M19 3H5c-1.1 0-2 .9-2 2v14c0 1.1.9 2 2 2h14c1.1 0 2-.9 2-2V5c0-1.1-.9-2-2-2zM9 17H7v-7h2v7zm4 0h-2V7h2v10zm4 0h-2v-4h2v4z\"/>\n",
              "    </g>\n",
              "</svg>\n",
              "  </button>\n",
              "\n",
              "<style>\n",
              "  .colab-df-quickchart {\n",
              "      --bg-color: #E8F0FE;\n",
              "      --fill-color: #1967D2;\n",
              "      --hover-bg-color: #E2EBFA;\n",
              "      --hover-fill-color: #174EA6;\n",
              "      --disabled-fill-color: #AAA;\n",
              "      --disabled-bg-color: #DDD;\n",
              "  }\n",
              "\n",
              "  [theme=dark] .colab-df-quickchart {\n",
              "      --bg-color: #3B4455;\n",
              "      --fill-color: #D2E3FC;\n",
              "      --hover-bg-color: #434B5C;\n",
              "      --hover-fill-color: #FFFFFF;\n",
              "      --disabled-bg-color: #3B4455;\n",
              "      --disabled-fill-color: #666;\n",
              "  }\n",
              "\n",
              "  .colab-df-quickchart {\n",
              "    background-color: var(--bg-color);\n",
              "    border: none;\n",
              "    border-radius: 50%;\n",
              "    cursor: pointer;\n",
              "    display: none;\n",
              "    fill: var(--fill-color);\n",
              "    height: 32px;\n",
              "    padding: 0;\n",
              "    width: 32px;\n",
              "  }\n",
              "\n",
              "  .colab-df-quickchart:hover {\n",
              "    background-color: var(--hover-bg-color);\n",
              "    box-shadow: 0 1px 2px rgba(60, 64, 67, 0.3), 0 1px 3px 1px rgba(60, 64, 67, 0.15);\n",
              "    fill: var(--button-hover-fill-color);\n",
              "  }\n",
              "\n",
              "  .colab-df-quickchart-complete:disabled,\n",
              "  .colab-df-quickchart-complete:disabled:hover {\n",
              "    background-color: var(--disabled-bg-color);\n",
              "    fill: var(--disabled-fill-color);\n",
              "    box-shadow: none;\n",
              "  }\n",
              "\n",
              "  .colab-df-spinner {\n",
              "    border: 2px solid var(--fill-color);\n",
              "    border-color: transparent;\n",
              "    border-bottom-color: var(--fill-color);\n",
              "    animation:\n",
              "      spin 1s steps(1) infinite;\n",
              "  }\n",
              "\n",
              "  @keyframes spin {\n",
              "    0% {\n",
              "      border-color: transparent;\n",
              "      border-bottom-color: var(--fill-color);\n",
              "      border-left-color: var(--fill-color);\n",
              "    }\n",
              "    20% {\n",
              "      border-color: transparent;\n",
              "      border-left-color: var(--fill-color);\n",
              "      border-top-color: var(--fill-color);\n",
              "    }\n",
              "    30% {\n",
              "      border-color: transparent;\n",
              "      border-left-color: var(--fill-color);\n",
              "      border-top-color: var(--fill-color);\n",
              "      border-right-color: var(--fill-color);\n",
              "    }\n",
              "    40% {\n",
              "      border-color: transparent;\n",
              "      border-right-color: var(--fill-color);\n",
              "      border-top-color: var(--fill-color);\n",
              "    }\n",
              "    60% {\n",
              "      border-color: transparent;\n",
              "      border-right-color: var(--fill-color);\n",
              "    }\n",
              "    80% {\n",
              "      border-color: transparent;\n",
              "      border-right-color: var(--fill-color);\n",
              "      border-bottom-color: var(--fill-color);\n",
              "    }\n",
              "    90% {\n",
              "      border-color: transparent;\n",
              "      border-bottom-color: var(--fill-color);\n",
              "    }\n",
              "  }\n",
              "</style>\n",
              "\n",
              "  <script>\n",
              "    async function quickchart(key) {\n",
              "      const quickchartButtonEl =\n",
              "        document.querySelector('#' + key + ' button');\n",
              "      quickchartButtonEl.disabled = true;  // To prevent multiple clicks.\n",
              "      quickchartButtonEl.classList.add('colab-df-spinner');\n",
              "      try {\n",
              "        const charts = await google.colab.kernel.invokeFunction(\n",
              "            'suggestCharts', [key], {});\n",
              "      } catch (error) {\n",
              "        console.error('Error during call to suggestCharts:', error);\n",
              "      }\n",
              "      quickchartButtonEl.classList.remove('colab-df-spinner');\n",
              "      quickchartButtonEl.classList.add('colab-df-quickchart-complete');\n",
              "    }\n",
              "    (() => {\n",
              "      let quickchartButtonEl =\n",
              "        document.querySelector('#df-8ffe286b-27af-4be5-97c9-e0aaabbe37bd button');\n",
              "      quickchartButtonEl.style.display =\n",
              "        google.colab.kernel.accessAllowed ? 'block' : 'none';\n",
              "    })();\n",
              "  </script>\n",
              "</div>\n",
              "    </div>\n",
              "  </div>\n"
            ]
          },
          "metadata": {},
          "execution_count": 15
        }
      ]
    },
    {
      "cell_type": "markdown",
      "source": [
        "These 'w' values play a crucial role in Bayesian probabilistic retrieval, helping to determine the relevance and ranking of documents within an information retrieval system. They provide a sophisticated framework for document ranking by considering both term presence and relevance information."
      ],
      "metadata": {
        "id": "wvU_LuPL04tW"
      }
    },
    {
      "cell_type": "markdown",
      "source": [
        "<h1>Contact Me</h1>\n",
        "<p>If you have something to say to me please contact me:</p>\n",
        "\n",
        "<ul>\n",
        "  <li>Twitter: <a href=\"https://twitter.com/Doguilmak\">Doguilmak</a></li>\n",
        "  <li>Mail address: doguilmak@gmail.com</li>\n",
        "</ul>"
      ],
      "metadata": {
        "id": "Y_Ri1EU9oDTD"
      }
    },
    {
      "cell_type": "code",
      "source": [
        "from datetime import datetime\n",
        "print(f\"Changes have been made to the project on {datetime.now().strftime('%Y-%m-%d %H:%M:%S')}\")"
      ],
      "metadata": {
        "colab": {
          "base_uri": "https://localhost:8080/"
        },
        "id": "hChaUPEgloCB",
        "outputId": "d824ab62-9e9e-49ea-d5f8-6d4dae73e4c4"
      },
      "execution_count": 16,
      "outputs": [
        {
          "output_type": "stream",
          "name": "stdout",
          "text": [
            "Changes have been made to the project on 2023-10-19 12:29:15\n"
          ]
        }
      ]
    }
  ]
}